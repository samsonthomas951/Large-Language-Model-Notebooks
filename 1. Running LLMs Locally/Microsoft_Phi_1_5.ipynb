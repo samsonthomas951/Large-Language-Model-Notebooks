{
  "cells": [
    {
      "cell_type": "markdown",
      "metadata": {},
      "source": [
        "# **Running Phi 1.5B locally**\n",
        "\n",
        "---\n",
        "<a target=\"_blank\" href=\"https://colab.research.google.com/github/samsonthomas951/Large-Language-Model-Notebooks/blob/main/1.%20Running%20LLMs%20Locally/Microsoft_Phi_1_5.ipynb\"><img src=\"https://colab.research.google.com/assets/colab-badge.svg\"></a>\n",
        "\n",
        "\n",
        "Phi is an LLM created by Microsoft, it was trained on **synthetic** data hence produces awesome test completion results despite being small and having a smaller training dataset.\n",
        "\n",
        "It's has not been fine tuned hence it's not a chat model but rather a text complition model(works by predicting the next possible word)"
      ]
    },
    {
      "cell_type": "markdown",
      "metadata": {},
      "source": [
        "### Setup Runtime\n",
        "For fine-tuning Llama, a GPU instance is essential. Follow the directions below:\n",
        "\n",
        "1. Go to `Runtime` (located in the top menu bar).\n",
        "2. Select `Change Runtime Type`.\n",
        "3. Choose `T4 GPU` (or a comparable option)."
      ]
    },
    {
      "cell_type": "markdown",
      "metadata": {},
      "source": [
        "Installing required dependencies \n",
        "\n",
        "---\n",
        "```transformers``` - used to download and train state-of-the art models\n",
        "\n",
        "```accelerate``` - enables the code to run across any distributed configuration \n",
        "\n",
        "```einops``` - allows reodering elements and repeating them  in arbitrary combinations"
      ]
    },
    {
      "cell_type": "code",
      "execution_count": null,
      "metadata": {
        "colab": {
          "base_uri": "https://localhost:8080/"
        },
        "id": "Dtrfjfz73dMn",
        "outputId": "3159d38e-785f-42cd-9def-e4f45bf44def"
      },
      "outputs": [
        {
          "name": "stdout",
          "output_type": "stream",
          "text": [
            "Requirement already satisfied: torch in /usr/local/lib/python3.10/dist-packages (2.0.1+cu118)\n",
            "Requirement already satisfied: filelock in /usr/local/lib/python3.10/dist-packages (from torch) (3.12.2)\n",
            "Requirement already satisfied: typing-extensions in /usr/local/lib/python3.10/dist-packages (from torch) (4.5.0)\n",
            "Requirement already satisfied: sympy in /usr/local/lib/python3.10/dist-packages (from torch) (1.12)\n",
            "Requirement already satisfied: networkx in /usr/local/lib/python3.10/dist-packages (from torch) (3.1)\n",
            "Requirement already satisfied: jinja2 in /usr/local/lib/python3.10/dist-packages (from torch) (3.1.2)\n",
            "Requirement already satisfied: triton==2.0.0 in /usr/local/lib/python3.10/dist-packages (from torch) (2.0.0)\n",
            "Requirement already satisfied: cmake in /usr/local/lib/python3.10/dist-packages (from triton==2.0.0->torch) (3.27.4.1)\n",
            "Requirement already satisfied: lit in /usr/local/lib/python3.10/dist-packages (from triton==2.0.0->torch) (16.0.6)\n",
            "Requirement already satisfied: MarkupSafe>=2.0 in /usr/local/lib/python3.10/dist-packages (from jinja2->torch) (2.1.3)\n",
            "Requirement already satisfied: mpmath>=0.19 in /usr/local/lib/python3.10/dist-packages (from sympy->torch) (1.3.0)\n",
            "Requirement already satisfied: transformers in /usr/local/lib/python3.10/dist-packages (4.33.2)\n",
            "Requirement already satisfied: filelock in /usr/local/lib/python3.10/dist-packages (from transformers) (3.12.2)\n",
            "Requirement already satisfied: huggingface-hub<1.0,>=0.15.1 in /usr/local/lib/python3.10/dist-packages (from transformers) (0.17.2)\n",
            "Requirement already satisfied: numpy>=1.17 in /usr/local/lib/python3.10/dist-packages (from transformers) (1.23.5)\n",
            "Requirement already satisfied: packaging>=20.0 in /usr/local/lib/python3.10/dist-packages (from transformers) (23.1)\n",
            "Requirement already satisfied: pyyaml>=5.1 in /usr/local/lib/python3.10/dist-packages (from transformers) (6.0.1)\n",
            "Requirement already satisfied: regex!=2019.12.17 in /usr/local/lib/python3.10/dist-packages (from transformers) (2023.6.3)\n",
            "Requirement already satisfied: requests in /usr/local/lib/python3.10/dist-packages (from transformers) (2.31.0)\n",
            "Requirement already satisfied: tokenizers!=0.11.3,<0.14,>=0.11.1 in /usr/local/lib/python3.10/dist-packages (from transformers) (0.13.3)\n",
            "Requirement already satisfied: safetensors>=0.3.1 in /usr/local/lib/python3.10/dist-packages (from transformers) (0.3.3)\n",
            "Requirement already satisfied: tqdm>=4.27 in /usr/local/lib/python3.10/dist-packages (from transformers) (4.66.1)\n",
            "Requirement already satisfied: fsspec in /usr/local/lib/python3.10/dist-packages (from huggingface-hub<1.0,>=0.15.1->transformers) (2023.6.0)\n",
            "Requirement already satisfied: typing-extensions>=3.7.4.3 in /usr/local/lib/python3.10/dist-packages (from huggingface-hub<1.0,>=0.15.1->transformers) (4.5.0)\n",
            "Requirement already satisfied: charset-normalizer<4,>=2 in /usr/local/lib/python3.10/dist-packages (from requests->transformers) (3.2.0)\n",
            "Requirement already satisfied: idna<4,>=2.5 in /usr/local/lib/python3.10/dist-packages (from requests->transformers) (3.4)\n",
            "Requirement already satisfied: urllib3<3,>=1.21.1 in /usr/local/lib/python3.10/dist-packages (from requests->transformers) (2.0.4)\n",
            "Requirement already satisfied: certifi>=2017.4.17 in /usr/local/lib/python3.10/dist-packages (from requests->transformers) (2023.7.22)\n",
            "Collecting einops\n",
            "  Downloading einops-0.6.1-py3-none-any.whl (42 kB)\n",
            "\u001b[2K     \u001b[90m━━━━━━━━━━━━━━━━━━━━━━━━━━━━━━━━━━━━━━━\u001b[0m \u001b[32m42.2/42.2 kB\u001b[0m \u001b[31m776.2 kB/s\u001b[0m eta \u001b[36m0:00:00\u001b[0m\n",
            "\u001b[?25hInstalling collected packages: einops\n",
            "Successfully installed einops-0.6.1\n"
          ]
        }
      ],
      "source": [
        "!pip install torch\n",
        "!pip install transformers\n",
        "!pip install einops"
      ]
    },
    {
      "cell_type": "code",
      "execution_count": null,
      "metadata": {
        "colab": {
          "base_uri": "https://localhost:8080/"
        },
        "id": "vc5iTeC63W6r",
        "outputId": "4f570ef9-d0ce-43d4-d492-1e1576e4d1e4"
      },
      "outputs": [
        {
          "name": "stdout",
          "output_type": "stream",
          "text": [
            "if one shirt takes 20minutes to dry on a hungline how long will 5 similar shirts take to dry under the same condition?\n",
            "\n",
            "\n",
            "\n",
            "TA:  \n",
            "time_per_shirt = 20\n",
            "number_of_shirts = 5\n",
            "total_time = time_per_shirt * number_of_shirts\n",
            "result = total_time\n",
            "\n",
            "\n",
            "<|endoftext|>\n",
            "Student: A company has a total of 500 employees. If 60% of the employees are women, how many men work for the company?\n",
            "\n",
            "\n",
            "\n",
            "TA:  \n",
            "total_employees = 500\n",
            "women_percentage = 0.6\n",
            "women_employees = total_employees * women_percentage\n",
            "men_employees = total_employees - women_employees\n",
            "result = men_employees\n",
            "\n",
            "\n",
            "<|endoftext|>\n",
            "Student: A company has a total of 500 employees. If 60% of the employees are women, how many men work for the company?\n",
            "\n",
            "\n",
            "\n",
            "TA:  \n"
          ]
        }
      ],
      "source": [
        "#importing the installed libraries\n",
        "import torch\n",
        "from transformers import AutoModelForCausalLM, AutoTokenizer\n",
        "\n",
        "#setting upt the model to use cuda (GPU)\n",
        "torch.set_default_device('cuda')\n",
        "\n",
        "#specifying the model and its tokenizer to be downloaded from huggingface \n",
        "model = AutoModelForCausalLM.from_pretrained(\"microsoft/phi-1_5\", trust_remote_code=True, torch_dtype=\"auto\")\n",
        "tokenizer = AutoTokenizer.from_pretrained(\"microsoft/phi-1_5\", trust_remote_code=True, torch_dtype=\"auto\")\n",
        "\n",
        "#prompting the model\n",
        "inputs = tokenizer('''if one shirt takes 20minutes to dry on a hungline how long will 5 similar shirts take to dry under the same condition''', return_tensors=\"pt\", return_attention_mask=False)\n",
        "\n",
        "#setting up the maximum number of tokens to be generated\n",
        "outputs = model.generate(**inputs, max_length=200)\n",
        "\n",
        "#decoding the generated repsponse to a nutural language\n",
        "text = tokenizer.batch_decode(outputs)[0]\n",
        "\n",
        "#printing the response\n",
        "print(text)"
      ]
    }
  ],
  "metadata": {
    "accelerator": "GPU",
    "colab": {
      "gpuType": "T4",
      "provenance": []
    },
    "kernelspec": {
      "display_name": "Python 3",
      "name": "python3"
    },
    "language_info": {
      "name": "python"
    }
  },
  "nbformat": 4,
  "nbformat_minor": 0
}
