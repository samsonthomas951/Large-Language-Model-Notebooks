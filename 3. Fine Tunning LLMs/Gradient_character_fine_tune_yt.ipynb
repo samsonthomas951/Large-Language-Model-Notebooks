{
  "nbformat": 4,
  "nbformat_minor": 0,
  "metadata": {
    "colab": {
      "provenance": []
    },
    "kernelspec": {
      "name": "python3",
      "display_name": "Python 3"
    },
    "language_info": {
      "name": "python"
    }
  },
  "cells": [
    {
      "cell_type": "code",
      "source": [
        "!pip install gradientai --upgrade"
      ],
      "metadata": {
        "id": "wak76xYYUdXE",
        "outputId": "6f1a7756-a4db-463e-feb5-a7b5630c1a75",
        "colab": {
          "base_uri": "https://localhost:8080/"
        }
      },
      "execution_count": null,
      "outputs": [
        {
          "output_type": "stream",
          "name": "stdout",
          "text": [
            "Collecting gradientai\n",
            "  Downloading gradientai-1.2.0-py3-none-any.whl (166 kB)\n",
            "\u001b[2K     \u001b[90m━━━━━━━━━━━━━━━━━━━━━━━━━━━━━━━━━━━━━━━━\u001b[0m \u001b[32m166.3/166.3 kB\u001b[0m \u001b[31m3.6 MB/s\u001b[0m eta \u001b[36m0:00:00\u001b[0m\n",
            "\u001b[?25hCollecting aenum>=3.1.11 (from gradientai)\n",
            "  Downloading aenum-3.1.15-py3-none-any.whl (137 kB)\n",
            "\u001b[2K     \u001b[90m━━━━━━━━━━━━━━━━━━━━━━━━━━━━━━━━━━━━━━━━\u001b[0m \u001b[32m137.6/137.6 kB\u001b[0m \u001b[31m5.9 MB/s\u001b[0m eta \u001b[36m0:00:00\u001b[0m\n",
            "\u001b[?25hRequirement already satisfied: pydantic<2.0.0,>=1.10.5 in /usr/local/lib/python3.10/dist-packages (from gradientai) (1.10.13)\n",
            "Requirement already satisfied: python-dateutil>=2.8.2 in /usr/local/lib/python3.10/dist-packages (from gradientai) (2.8.2)\n",
            "Requirement already satisfied: urllib3>=1.25.3 in /usr/local/lib/python3.10/dist-packages (from gradientai) (2.0.7)\n",
            "Requirement already satisfied: typing-extensions>=4.2.0 in /usr/local/lib/python3.10/dist-packages (from pydantic<2.0.0,>=1.10.5->gradientai) (4.5.0)\n",
            "Requirement already satisfied: six>=1.5 in /usr/local/lib/python3.10/dist-packages (from python-dateutil>=2.8.2->gradientai) (1.16.0)\n",
            "Installing collected packages: aenum, gradientai\n",
            "Successfully installed aenum-3.1.15 gradientai-1.2.0\n"
          ]
        }
      ]
    },
    {
      "cell_type": "code",
      "source": [
        "import os\n",
        "os.environ['GRADIENT_ACCESS_TOKEN'] = \"\"\n",
        "os.environ['GRADIENT_WORKSPACE_ID'] = \"\""
      ],
      "metadata": {
        "id": "U02ytLrPA2rG"
      },
      "execution_count": null,
      "outputs": []
    },
    {
      "cell_type": "code",
      "source": [
        "# for parsing csv source file\n",
        "import csv\n",
        "\n",
        "# gradient library\n",
        "from gradientai import Gradient\n",
        "\n",
        "path_to_csv_file = \"/content/scripts-ver2-2.csv\""
      ],
      "metadata": {
        "id": "Scor9o08VVhQ"
      },
      "execution_count": null,
      "outputs": []
    },
    {
      "cell_type": "code",
      "source": [
        "# find pairs of lines where someone else speaks, then Rick speaks\n",
        "# append them as two separate lines in rows_to_keep\n",
        "print(\"Parsing data...\")\n",
        "rows_to_keep = []\n",
        "with open(path_to_csv_file, encoding=\"utf-8-sig\") as f:\n",
        "  reader = csv.DictReader(f, delimiter=\",\")\n",
        "  last_row = None\n",
        "  for row in reader:\n",
        "    if \"Rick\" == row[\"name\"] and last_row is not None:\n",
        "      rows_to_keep.append(last_row)\n",
        "      rows_to_keep.append(row)\n",
        "      last_row = None\n",
        "    else:\n",
        "      last_row = row\n",
        "\n",
        "# create a role-playing prompt for training and\n",
        "# later for prompting\n",
        "role_play_prompt = \"You are Rick Sanchez, a character from the TV show Rick and Morty. You are a brilliant mad scientist who is also cynical, misanthropic, nihilistic, and drinks too much. Respond to the following line of dialog as Rick Sanchez.\"\n",
        "\n",
        "# combine pairs of rows from above to\n",
        "# create prompt + reponse on each line\n",
        "# using prompt template in 'lines' array\n",
        "lines = []\n",
        "for i in range(0, len(rows_to_keep), 2):\n",
        "  prompt = rows_to_keep[i]\n",
        "  response = rows_to_keep[i+1]\n",
        "  start_str = f\"<s>### Instruction:\\n{role_play_prompt}\\n\\n###Input:\\n\"\n",
        "  prompt = prompt[\"line\"].replace('\"','\\\\\"')\n",
        "  mid_str = '''\\n\\n### Response:\\n'''\n",
        "  response = response[\"line\"].replace('\"','\\\\\"')\n",
        "  end_str = '''</s>'''\n",
        "  total_line = start_str + prompt + mid_str + response + end_str\n",
        "  # each line of training data is a simple object: 'inputs' and actual training string\n",
        "  obj = {\n",
        "    \"inputs\" : total_line\n",
        "  }\n",
        "  lines.append(obj)\n",
        "  # print(total_line) # comment in to see how the formatted lines look\n",
        "    # these lines could also be written to a jsonl file for use\n",
        "    # with the command line interface\n",
        "print(f\"Generated {len(lines)} lines to fine-tune\")\n",
        "print(f\"Example training line: {lines[0]}\")\n",
        "\n",
        "# split up the lines into manageable chunks\n",
        "lines_per_chunk = 20\n",
        "all_chunks = []\n",
        "for line in lines:\n",
        "  if len(all_chunks) == 0 or len(all_chunks[-1]) == lines_per_chunk:\n",
        "    all_chunks.append([])\n",
        "  all_chunks[-1].append(line)\n",
        "\n",
        "# fine tune the adapter using the chunks of lines from above\n",
        "# loop contains a try block to handle network or other\n",
        "# processing errors gracefully\n",
        "print(f\"\\nFine-tuning model adapter\")\n",
        "gradient = Gradient()\n",
        "base = gradient.get_base_model(base_model_slug=\"nous-hermes2\")\n",
        "my_adapter = base.create_model_adapter(name=\"rickbot\")\n",
        "print(f\"Created model with ID {my_adapter.id}\")\n",
        "for i in range(len(all_chunks)):\n",
        "  try:\n",
        "    print(f\"Fine-tuning chunk {i} of {len(all_chunks) - 1}\")\n",
        "    my_adapter.fine_tune(samples=all_chunks[i])\n",
        "  except Exception as error:\n",
        "    try:\n",
        "      error_pieces = str(error).split(\"\\n\")\n",
        "      if len(error_pieces) > 1:\n",
        "        print(f\"*** Error processing chunk {i}: {error_pieces[0]} {error_pieces[1]}\")\n",
        "      else:\n",
        "        print(f\"*** Unknown error on chunk {i}: {error}\")\n",
        "    except KeyboardInterrupt:\n",
        "      break\n",
        "    except Exception as inner_error:\n",
        "      print(inner_error)\n"
      ],
      "metadata": {
        "id": "OIRGgeBZPLrV"
      },
      "execution_count": null,
      "outputs": []
    },
    {
      "cell_type": "code",
      "source": [
        "# if your colab instance gets deleted, you can run this to get the model names\n",
        "gradient = Gradient()\n",
        "# if necessary, go back and find your previously created models and their IDs\n",
        "old_models = gradient.list_models(only_base=False)\n",
        "for model in old_models:\n",
        "  if hasattr(model, \"name\"):\n",
        "    print(f\"{model.name}: {model.id}\")"
      ],
      "metadata": {
        "colab": {
          "base_uri": "https://localhost:8080/"
        },
        "id": "rw8Gjeira0uG",
        "outputId": "c8c87df1-ff39-43b6-b241-579b309832cf"
      },
      "execution_count": null,
      "outputs": [
        {
          "output_type": "stream",
          "name": "stdout",
          "text": [
            "rickbot: 23704fd3-960c-4c3a-bb6e-f3bd9cf97ef8_model_adapter\n"
          ]
        }
      ]
    },
    {
      "cell_type": "code",
      "source": [
        "role_play_prompt = \"You are Rick Sanchez, a character from the TV show Rick and Morty. You are a brilliant mad scientist who is also cynical, misanthropic, nihilistic, and drinks too much. Respond to the following line of dialog as Rick Sanchez.\"\n",
        "query = \"What do you think about alien parasites?\"\n",
        "templated_query = f\"<s>### Instruction:\\n{role_play_prompt}\\n\\n###Input:\\n{query}\\n\\n### Response:\\n\"\n",
        "response = my_adapter.complete(query=templated_query, max_generated_token_count=500)\n",
        "print(f\"> {query}\\n> {response.generated_output}\\n\\n\")\n"
      ],
      "metadata": {
        "id": "01fa2iFkSYB2",
        "outputId": "ca8f9031-a617-4413-8f58-ac1cc1de2715",
        "colab": {
          "base_uri": "https://localhost:8080/"
        }
      },
      "execution_count": null,
      "outputs": [
        {
          "output_type": "stream",
          "name": "stdout",
          "text": [
            "> What do you think about alien parasites?\n",
            "> I think they're a great way to get a free ride on the back of a host organism.\n",
            "\n",
            "\n"
          ]
        }
      ]
    },
    {
      "cell_type": "code",
      "source": [
        "# delete this adapter when finished\n",
        "my_adapter.delete()"
      ],
      "metadata": {
        "id": "XdjO6yF6Qk-o"
      },
      "execution_count": null,
      "outputs": []
    }
  ]
}